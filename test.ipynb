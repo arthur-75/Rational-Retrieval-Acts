{
 "cells": [
  {
   "cell_type": "code",
   "execution_count": 1,
   "metadata": {},
   "outputs": [
    {
     "name": "stderr",
     "output_type": "stream",
     "text": [
      "/opt/anaconda3/envs/rra/lib/python3.12/site-packages/beir/retrieval/search/sparse/sparse_search.py:6: TqdmWarning: IProgress not found. Please update jupyter and ipywidgets. See https://ipywidgets.readthedocs.io/en/stable/user_install.html\n",
      "  from tqdm.autonotebook import trange\n"
     ]
    }
   ],
   "source": [
    "from scipy.sparse import csr_matrix\n",
    "import numpy as np\n",
    "#### Sparse Retrieval using SPARTA #### \n",
    "from beir.retrieval.evaluation import EvaluateRetrieval\n",
    "from beir.retrieval.search.sparse import SparseSearch\n",
    "from beir.retrieval import models\n",
    "from beir.datasets.data_loader import GenericDataLoader\n",
    "from beir import util\n",
    "#### Sparse Retrieval using SPARTA #### \n",
    "from beir.retrieval import models\n",
    "import pickle"
   ]
  },
  {
   "cell_type": "code",
   "execution_count": null,
   "metadata": {},
   "outputs": [],
   "source": [
    "data_set = \"scifact\"\n",
    "data_path=\"evaluation_datasets\"\n",
    "url = \"https://public.ukp.informatik.tu-darmstadt.de/thakur/BEIR/datasets/{}.zip\".format(data_set)\n",
    "data_path = util.download_and_unzip(url, data_path)\n",
    "corpus, queries_, qrels_ = GenericDataLoader(data_folder=data_path).load(split=\"test\")\n",
    "queries_ids = list(queries_.keys())\n",
    "queries= list(queries_.values())\n",
    "documents = [[f\"{doc['title']} ,{doc['text']}\"] for doc in corpus.values()]\n",
    "document_ids= list(corpus.keys())"
   ]
  },
  {
   "cell_type": "code",
   "execution_count": 6,
   "metadata": {},
   "outputs": [
    {
     "name": "stderr",
     "output_type": "stream",
     "text": [
      "  0%|          | 0/5183 [00:00<?, ?it/s]"
     ]
    },
    {
     "name": "stderr",
     "output_type": "stream",
     "text": [
      "100%|██████████| 5183/5183 [00:00<00:00, 198986.51it/s]\n"
     ]
    }
   ],
   "source": [
    "from src.utils import get_data#, get_torch_sparse,get_score\n",
    "from src.utils.utils import get_torch_sparse,get_score\n",
    "\n",
    "corpus, queries, qrels  =get_data(\"scifact\")\n",
    "queries_ids=list(queries.keys())\n",
    "document_ids= list(corpus.keys())"
   ]
  },
  {
   "cell_type": "code",
   "execution_count": null,
   "metadata": {},
   "outputs": [],
   "source": [
    "from src.rra.retrievers import sparta\n",
    "sparseModel= sparta.get_model()"
   ]
  },
  {
   "cell_type": "code",
   "execution_count": null,
   "metadata": {},
   "outputs": [
    {
     "name": "stderr",
     "output_type": "stream",
     "text": [
      "docs: 100%|██████████| 81/81 [03:54<00:00,  2.89s/it]\n",
      "query: 100%|██████████| 300/300 [00:00<00:00, 2555.56it/s]"
     ]
    },
    {
     "name": "stdout",
     "output_type": "stream",
     "text": [
      "{'NDCG@1': 0.50333, 'NDCG@3': 0.55849, 'NDCG@5': 0.57191, 'NDCG@10': 0.59784, 'NDCG@100': 0.63118, 'NDCG@1000': 0.64505}\n"
     ]
    },
    {
     "name": "stderr",
     "output_type": "stream",
     "text": [
      "\n"
     ]
    }
   ],
   "source": [
    "import numpy as np\n",
    "#please modify SPARTA in  beir.retrieval.models from np.int to int and from np.float to float\n",
    "encoded_doc,encoded_q=sparta.encode(sparseModel,corpus,queries,queries_ids,qrels)\n",
    "doc_sparse_torch,_= get_torch_sparse(encoded_doc,device=\"cpu\",keep_all=True)\n"
   ]
  },
  {
   "cell_type": "code",
   "execution_count": null,
   "metadata": {},
   "outputs": [
    {
     "name": "stdout",
     "output_type": "stream",
     "text": [
      "(30522, 5183)\n"
     ]
    },
    {
     "data": {
      "text/plain": [
       "{'NDCG@1': 0.50333,\n",
       " 'NDCG@10': 0.59784,\n",
       " 'Recall@1': 0.48611,\n",
       " 'Recall@10': 0.70428,\n",
       " 'Recall@100': 0.859}"
      ]
     },
     "execution_count": 36,
     "metadata": {},
     "output_type": "execute_result"
    }
   ],
   "source": [
    "res,full_res=get_score(doc_sparse_torch,encoded_q,document_ids,queries_ids,qrels,top_k=100)\n",
    "res"
   ]
  },
  {
   "cell_type": "code",
   "execution_count": 45,
   "metadata": {},
   "outputs": [
    {
     "name": "stderr",
     "output_type": "stream",
     "text": [
      "100%|██████████| 3053/3053 [00:00<00:00, 5999.99it/s]\n",
      "100%|██████████| 3053/3053 [00:00<00:00, 3295.30it/s]\n"
     ]
    },
    {
     "name": "stdout",
     "output_type": "stream",
     "text": [
      "(30522, 5183)\n"
     ]
    },
    {
     "data": {
      "text/plain": [
       "{'NDCG@1': 0.53,\n",
       " 'NDCG@10': 0.62402,\n",
       " 'Recall@1': 0.51278,\n",
       " 'Recall@10': 0.73178,\n",
       " 'Recall@100': 0.893}"
      ]
     },
     "execution_count": 45,
     "metadata": {},
     "output_type": "execute_result"
    }
   ],
   "source": [
    "from src.rra.rsa import RSA\n",
    "rsa_mat,Vd,Ut= RSA(alpha=2, iterations=1,device=\"cpu\", batch_row=10,classic=True,).run(doc_sparse_torch)\n",
    "rsa_score,rsa_full_res= get_score(rsa_mat,encoded_q,document_ids,queries_ids,qrels,Vd,Ut,top_k=100)\n",
    "rsa_score"
   ]
  }
 ],
 "metadata": {
  "kernelspec": {
   "display_name": "rra",
   "language": "python",
   "name": "python3"
  },
  "language_info": {
   "codemirror_mode": {
    "name": "ipython",
    "version": 3
   },
   "file_extension": ".py",
   "mimetype": "text/x-python",
   "name": "python",
   "nbconvert_exporter": "python",
   "pygments_lexer": "ipython3",
   "version": "3.12.9"
  }
 },
 "nbformat": 4,
 "nbformat_minor": 2
}
