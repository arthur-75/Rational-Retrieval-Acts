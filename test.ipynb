{
 "cells": [
  {
   "cell_type": "code",
   "execution_count": 1,
   "metadata": {},
   "outputs": [
    {
     "name": "stderr",
     "output_type": "stream",
     "text": [
      "/opt/anaconda3/envs/rra/lib/python3.12/site-packages/beir/retrieval/search/sparse/sparse_search.py:6: TqdmWarning: IProgress not found. Please update jupyter and ipywidgets. See https://ipywidgets.readthedocs.io/en/stable/user_install.html\n",
      "  from tqdm.autonotebook import trange\n"
     ]
    }
   ],
   "source": [
    "from scipy.sparse import csr_matrix\n",
    "import numpy as np\n",
    "#### Sparse Retrieval using SPARTA #### \n",
    "from beir.retrieval.evaluation import EvaluateRetrieval\n",
    "from beir.retrieval.search.sparse import SparseSearch\n",
    "from beir.retrieval import models\n",
    "from beir.datasets.data_loader import GenericDataLoader\n",
    "from beir import util\n",
    "#### Sparse Retrieval using SPARTA #### \n",
    "from beir.retrieval import models\n",
    "import pickle"
   ]
  },
  {
   "cell_type": "code",
   "execution_count": null,
   "metadata": {},
   "outputs": [],
   "source": [
    "data_set = \"scifact\"\n",
    "data_path=\"evaluation_datasets\"\n",
    "url = \"https://public.ukp.informatik.tu-darmstadt.de/thakur/BEIR/datasets/{}.zip\".format(data_set)\n",
    "data_path = util.download_and_unzip(url, data_path)\n",
    "corpus, queries_, qrels_ = GenericDataLoader(data_folder=data_path).load(split=\"test\")\n",
    "queries_ids = list(queries_.keys())\n",
    "queries= list(queries_.values())\n",
    "documents = [[f\"{doc['title']} ,{doc['text']}\"] for doc in corpus.values()]\n",
    "document_ids= list(corpus.keys())"
   ]
  },
  {
   "cell_type": "code",
   "execution_count": null,
   "metadata": {},
   "outputs": [
    {
     "ename": "ImportError",
     "evalue": "cannot import name 'get_torch_sparse' from 'src.utils' (/Users/arthur/Documents/reasearch/RRA/src/utils/__init__.py)",
     "output_type": "error",
     "traceback": [
      "\u001b[31m---------------------------------------------------------------------------\u001b[39m",
      "\u001b[31mImportError\u001b[39m                               Traceback (most recent call last)",
      "\u001b[36mCell\u001b[39m\u001b[36m \u001b[39m\u001b[32mIn[37]\u001b[39m\u001b[32m, line 1\u001b[39m\n\u001b[32m----> \u001b[39m\u001b[32m1\u001b[39m \u001b[38;5;28;01mfrom\u001b[39;00m\u001b[38;5;250m \u001b[39m\u001b[34;01msrc\u001b[39;00m\u001b[34;01m.\u001b[39;00m\u001b[34;01mutils\u001b[39;00m\u001b[38;5;250m \u001b[39m\u001b[38;5;28;01mimport\u001b[39;00m get_data, get_torch_sparse,get_score\n\u001b[32m      2\u001b[39m \u001b[38;5;28;01mfrom\u001b[39;00m\u001b[38;5;250m \u001b[39m\u001b[34;01msrc\u001b[39;00m\u001b[34;01m.\u001b[39;00m\u001b[34;01mutils\u001b[39;00m\u001b[34;01m.\u001b[39;00m\u001b[34;01mutils\u001b[39;00m\u001b[38;5;250m \u001b[39m\u001b[38;5;28;01mimport\u001b[39;00m get_torch_sparse,get_score\n\u001b[32m      4\u001b[39m corpus, queries, qrels  =get_data(\u001b[33m\"\u001b[39m\u001b[33mscifact\u001b[39m\u001b[33m\"\u001b[39m)\n",
      "\u001b[31mImportError\u001b[39m: cannot import name 'get_torch_sparse' from 'src.utils' (/Users/arthur/Documents/reasearch/RRA/src/utils/__init__.py)"
     ]
    }
   ],
   "source": [
    "from src.utils import get_data#, get_torch_sparse,get_score\n",
    "from src.utils.utils import get_torch_sparse,get_score\n",
    "\n",
    "corpus, queries, qrels  =get_data(\"scifact\")\n",
    "queries_ids=list(queries.keys())\n",
    "document_ids= list(corpus.keys())"
   ]
  },
  {
   "cell_type": "code",
   "execution_count": null,
   "metadata": {},
   "outputs": [],
   "source": [
    "from src.rra.retrievers import sparta\n",
    "sparseModel= sparta.get_model()"
   ]
  },
  {
   "cell_type": "code",
   "execution_count": null,
   "metadata": {},
   "outputs": [
    {
     "name": "stderr",
     "output_type": "stream",
     "text": [
      "docs: 100%|██████████| 81/81 [03:54<00:00,  2.89s/it]\n",
      "query: 100%|██████████| 300/300 [00:00<00:00, 2555.56it/s]"
     ]
    },
    {
     "name": "stdout",
     "output_type": "stream",
     "text": [
      "{'NDCG@1': 0.50333, 'NDCG@3': 0.55849, 'NDCG@5': 0.57191, 'NDCG@10': 0.59784, 'NDCG@100': 0.63118, 'NDCG@1000': 0.64505}\n"
     ]
    },
    {
     "name": "stderr",
     "output_type": "stream",
     "text": [
      "\n"
     ]
    }
   ],
   "source": [
    "import numpy as np\n",
    "#please modify SPARTA in  beir.retrieval.models from np.int to int and from np.float to float\n",
    "encoded_doc,encoded_q=sparta.encode(sparseModel,corpus,queries,queries_ids,qrels)\n",
    "doc_sparse_torch,_= get_torch_sparse(encoded_doc,device=\"cpu\",keep_all=True)\n"
   ]
  },
  {
   "cell_type": "code",
   "execution_count": null,
   "metadata": {},
   "outputs": [
    {
     "name": "stderr",
     "output_type": "stream",
     "text": [
      "/Users/arthur/Documents/reasearch/RRA/src/utils/utils.py:255: UserWarning: Creating a tensor from a list of numpy.ndarrays is extremely slow. Please consider converting the list to a single numpy.ndarray with numpy.array() before converting to a tensor. (Triggered internally at /Users/runner/work/pytorch/pytorch/pytorch/torch/csrc/utils/tensor_new.cpp:257.)\n",
      "  values = torch.tensor(coo.data, dtype=dtype, device=device)\n"
     ]
    }
   ],
   "source": [
    "\n"
   ]
  },
  {
   "cell_type": "code",
   "execution_count": null,
   "metadata": {},
   "outputs": [
    {
     "name": "stdout",
     "output_type": "stream",
     "text": [
      "(30522, 5183)\n"
     ]
    },
    {
     "data": {
      "text/plain": [
       "{'NDCG@1': 0.50333,\n",
       " 'NDCG@10': 0.59784,\n",
       " 'Recall@1': 0.48611,\n",
       " 'Recall@10': 0.70428,\n",
       " 'Recall@100': 0.859}"
      ]
     },
     "execution_count": 36,
     "metadata": {},
     "output_type": "execute_result"
    }
   ],
   "source": [
    "res,full_res=get_score(doc_sparse_torch,encoded_q,document_ids,queries_ids,qrels,top_k=100)\n",
    "res"
   ]
  },
  {
   "cell_type": "code",
   "execution_count": 45,
   "metadata": {},
   "outputs": [
    {
     "name": "stderr",
     "output_type": "stream",
     "text": [
      "100%|██████████| 3053/3053 [00:00<00:00, 5999.99it/s]\n",
      "100%|██████████| 3053/3053 [00:00<00:00, 3295.30it/s]\n"
     ]
    },
    {
     "name": "stdout",
     "output_type": "stream",
     "text": [
      "(30522, 5183)\n"
     ]
    },
    {
     "data": {
      "text/plain": [
       "{'NDCG@1': 0.53,\n",
       " 'NDCG@10': 0.62402,\n",
       " 'Recall@1': 0.51278,\n",
       " 'Recall@10': 0.73178,\n",
       " 'Recall@100': 0.893}"
      ]
     },
     "execution_count": 45,
     "metadata": {},
     "output_type": "execute_result"
    }
   ],
   "source": [
    "from src.rra.rsa import RSA\n",
    "rsa_mat,Vd,Ut= RSA(alpha=2, iterations=1,device=\"cpu\", batch_row=10,classic=True,).run(doc_sparse_torch)\n",
    "rsa_score,rsa_full_res= get_score(rsa_mat,encoded_q,document_ids,queries_ids,qrels,Vd,Ut,top_k=100)\n",
    "rsa_score"
   ]
  },
  {
   "cell_type": "code",
   "execution_count": null,
   "metadata": {},
   "outputs": [],
   "source": []
  },
  {
   "cell_type": "code",
   "execution_count": 13,
   "metadata": {},
   "outputs": [
    {
     "data": {
      "text/plain": [
       "(158195526, 0.0655265054714632)"
      ]
     },
     "execution_count": 13,
     "metadata": {},
     "output_type": "execute_result"
    }
   ],
   "source": [
    "30522* 5183,10366000/158195526"
   ]
  }
 ],
 "metadata": {
  "kernelspec": {
   "display_name": "rra",
   "language": "python",
   "name": "python3"
  },
  "language_info": {
   "codemirror_mode": {
    "name": "ipython",
    "version": 3
   },
   "file_extension": ".py",
   "mimetype": "text/x-python",
   "name": "python",
   "nbconvert_exporter": "python",
   "pygments_lexer": "ipython3",
   "version": "3.12.9"
  }
 },
 "nbformat": 4,
 "nbformat_minor": 2
}
