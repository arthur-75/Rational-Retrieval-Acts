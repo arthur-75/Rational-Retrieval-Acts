{
 "cells": [
  {
   "cell_type": "code",
   "execution_count": 1,
   "metadata": {},
   "outputs": [
    {
     "name": "stderr",
     "output_type": "stream",
     "text": [
      "/opt/anaconda3/envs/rra/lib/python3.12/site-packages/beir/util.py:11: TqdmWarning: IProgress not found. Please update jupyter and ipywidgets. See https://ipywidgets.readthedocs.io/en/stable/user_install.html\n",
      "  from tqdm.autonotebook import tqdm\n",
      "100%|██████████| 5183/5183 [00:00<00:00, 311590.95it/s]\n"
     ]
    }
   ],
   "source": [
    "from src.utils import get_data, get_torch_sparse,get_score\n",
    "\n",
    "corpus, queries, qrels  =get_data(\"scifact\")\n",
    "queries_ids=list(queries.keys())\n",
    "document_ids= list(corpus.keys())"
   ]
  },
  {
   "cell_type": "code",
   "execution_count": 2,
   "metadata": {},
   "outputs": [],
   "source": [
    "from src.rra.retrievers import sparta\n",
    "sparseModel= sparta.get_model()"
   ]
  },
  {
   "cell_type": "code",
   "execution_count": 3,
   "metadata": {},
   "outputs": [
    {
     "name": "stderr",
     "output_type": "stream",
     "text": [
      "docs: 100%|██████████| 81/81 [03:56<00:00,  2.92s/it]\n",
      "query: 100%|██████████| 300/300 [00:00<00:00, 2366.12it/s]\n",
      "/Users/arthur/Documents/reasearch/RRA/src/utils/utils.py:34: UserWarning: Creating a tensor from a list of numpy.ndarrays is extremely slow. Please consider converting the list to a single numpy.ndarray with numpy.array() before converting to a tensor. (Triggered internally at /Users/runner/work/pytorch/pytorch/pytorch/torch/csrc/utils/tensor_new.cpp:257.)\n",
      "  indices = torch.tensor([coo.row, coo.col], dtype=torch.int, device=device)\n"
     ]
    }
   ],
   "source": [
    "import numpy as np\n",
    "#please modify SPARTA in  beir.retrieval.models from np.int to int and from np.float to float\n",
    "encoded_doc,encoded_q=sparta.encode(sparseModel,corpus,queries,qrels)\n",
    "doc_sparse_torch,_= get_torch_sparse(encoded_doc,device=\"cpu\")\n"
   ]
  },
  {
   "cell_type": "code",
   "execution_count": 4,
   "metadata": {},
   "outputs": [
    {
     "data": {
      "text/plain": [
       "{'NDCG@1': 0.50333,\n",
       " 'NDCG@10': 0.59784,\n",
       " 'NDCG@100': 0.63118,\n",
       " 'Recall@1': 0.48611,\n",
       " 'Recall@10': 0.70428,\n",
       " 'Recall@100': 0.859}"
      ]
     },
     "execution_count": 4,
     "metadata": {},
     "output_type": "execute_result"
    }
   ],
   "source": [
    "res,full_res=get_score(doc_sparse_torch,encoded_q,document_ids,queries_ids,qrels,top_k=100)\n",
    "res"
   ]
  },
  {
   "cell_type": "code",
   "execution_count": 5,
   "metadata": {},
   "outputs": [
    {
     "name": "stdout",
     "output_type": "stream",
     "text": [
      "Literal Pistener...\n",
      "Pragmatic Speaker...\n"
     ]
    },
    {
     "name": "stderr",
     "output_type": "stream",
     "text": [
      "100%|██████████| 3053/3053 [00:00<00:00, 4784.59it/s]\n"
     ]
    },
    {
     "name": "stdout",
     "output_type": "stream",
     "text": [
      "Pragmatic Listener...\n"
     ]
    },
    {
     "name": "stderr",
     "output_type": "stream",
     "text": [
      "100%|██████████| 3053/3053 [00:01<00:00, 2993.32it/s]\n"
     ]
    },
    {
     "data": {
      "text/plain": [
       "{'NDCG@1': 0.53,\n",
       " 'NDCG@10': 0.62402,\n",
       " 'NDCG@100': 0.65884,\n",
       " 'Recall@1': 0.51278,\n",
       " 'Recall@10': 0.73178,\n",
       " 'Recall@100': 0.893}"
      ]
     },
     "execution_count": 5,
     "metadata": {},
     "output_type": "execute_result"
    }
   ],
   "source": [
    "from src.rra.rsa import RSA\n",
    "rsa_mat,Vd,Ut= RSA(alpha=2, iterations=1,device=\"cpu\", batch_row=10,classic=True,).run(doc_sparse_torch)\n",
    "rsa_score,rsa_full_res= get_score(rsa_mat,encoded_q,document_ids,queries_ids,qrels,Vd,Ut,top_k=100)\n",
    "rsa_score"
   ]
  }
 ],
 "metadata": {
  "kernelspec": {
   "display_name": "rra",
   "language": "python",
   "name": "python3"
  },
  "language_info": {
   "codemirror_mode": {
    "name": "ipython",
    "version": 3
   },
   "file_extension": ".py",
   "mimetype": "text/x-python",
   "name": "python",
   "nbconvert_exporter": "python",
   "pygments_lexer": "ipython3",
   "version": "3.12.9"
  }
 },
 "nbformat": 4,
 "nbformat_minor": 2
}
